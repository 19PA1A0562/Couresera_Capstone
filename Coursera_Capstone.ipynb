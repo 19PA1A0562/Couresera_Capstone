{
  "nbformat": 4,
  "nbformat_minor": 0,
  "metadata": {
    "colab": {
      "name": "Coursera_Capstone",
      "provenance": [],
      "authorship_tag": "ABX9TyP8WVQe7dMgPulKJCpxGwF/",
      "include_colab_link": true
    },
    "kernelspec": {
      "name": "python3",
      "display_name": "Python 3"
    }
  },
  "cells": [
    {
      "cell_type": "markdown",
      "metadata": {
        "id": "view-in-github",
        "colab_type": "text"
      },
      "source": [
        "<a href=\"https://colab.research.google.com/github/19PA1A0562/Couresera_Capstone/blob/master/Coursera_Capstone.ipynb\" target=\"_parent\"><img src=\"https://colab.research.google.com/assets/colab-badge.svg\" alt=\"Open In Colab\"/></a>"
      ]
    },
    {
      "cell_type": "markdown",
      "metadata": {
        "id": "sNl4SzzNRLj0",
        "colab_type": "text"
      },
      "source": [
        "**This notebook is to explain about the capstone project** "
      ]
    },
    {
      "cell_type": "code",
      "metadata": {
        "id": "gWdjgqd_RWa5",
        "colab_type": "code",
        "colab": {}
      },
      "source": [
        "import pandas as pd"
      ],
      "execution_count": 0,
      "outputs": []
    },
    {
      "cell_type": "code",
      "metadata": {
        "id": "ejMQByN8Rd3z",
        "colab_type": "code",
        "colab": {}
      },
      "source": [
        "import numpy as np"
      ],
      "execution_count": 0,
      "outputs": []
    },
    {
      "cell_type": "code",
      "metadata": {
        "id": "bFzI0yNVRgMD",
        "colab_type": "code",
        "colab": {
          "base_uri": "https://localhost:8080/",
          "height": 34
        },
        "outputId": "229f2cc4-170a-4b6c-a27d-0eeaea041c3f"
      },
      "source": [
        "x=\"Hello Capstone Project Course\"\n",
        "print(x)"
      ],
      "execution_count": 1,
      "outputs": [
        {
          "output_type": "stream",
          "text": [
            "Hello Capstone Project Course\n"
          ],
          "name": "stdout"
        }
      ]
    }
  ]
}